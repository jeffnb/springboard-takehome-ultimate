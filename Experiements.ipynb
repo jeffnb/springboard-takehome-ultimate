{
 "cells": [
  {
   "cell_type": "markdown",
   "metadata": {},
   "source": [
    "### What would you choose as the key measure of success of this experiment in encouraging driver partners to serve both cities, and why would you choose this metric?"
   ]
  },
  {
   "cell_type": "markdown",
   "metadata": {},
   "source": [
    "The key metric I would choose for this is ride abandonment for the customers.  A simpler metric might be pickups and drop offs counts in the opposite city from the start location of the partner.  However, that metric would not give insight into the business value.  If the same drivers cross the bridge but it takes longer to start rides then it is of little value to the customer and has several downsides.  If the outcome is that riders are picked up more in a shorter time because more drivers are available then the toll could be offset by decreased ride abandonment."
   ]
  },
  {
   "cell_type": "markdown",
   "metadata": {},
   "source": [
    "### Describe a practical experiment you would design to compare the effectiveness of the proposed change in relation to the key measure of success. Please provide details on:\n",
    "* how you will implement the experiment\n",
    "* what statistical test(s) you will conduct to verify the significance of the observation\n",
    "* how you would interpret the results and provide recommendations to the city operations team along with any caveats."
   ]
  },
  {
   "cell_type": "markdown",
   "metadata": {},
   "source": [
    "The experiement I would run is to reimburse partners for all tolls going to or from a ride for 1 month.  This time frame would allow the experiment to gather data over a period of a few weeks to help eliminate anomolies. The process could be as simple as an expense report at the end of the month that is then transfered to a simple spreadsheet. \n",
    "\n",
    "On the rider side ensure that wait time is being tracked as well as abandonment.  These two allow not only a view into abandonment rate but also if it was a result of waiting too long instead of simply a change in plans.  \n",
    "\n",
    "The final success would be calculated based on the increase in overhead incurred by the tolls and how it was offset, if at all, by a decrease in ride abandonment. The number boils down to the bottom line of is it cost effective.\n",
    "\n",
    "#### Potential Caveats\n",
    "\n",
    "A few things might interfere with these numbers in the timeframe provided.\n",
    "* It might actually increase wait times if someone far away is selected to pickup\n",
    "* Is there enough demand if a large amount of drivers go back and forth between cities\n",
    "* Newness of a program tends to lead to a spike in participation and then a possible drop off of adoption"
   ]
  },
  {
   "cell_type": "markdown",
   "metadata": {},
   "source": []
  },
  {
   "cell_type": "code",
   "execution_count": null,
   "metadata": {},
   "outputs": [],
   "source": []
  }
 ],
 "metadata": {
  "kernelspec": {
   "display_name": "Python 3",
   "language": "python",
   "name": "python3"
  },
  "language_info": {
   "codemirror_mode": {
    "name": "ipython",
    "version": 3
   },
   "file_extension": ".py",
   "mimetype": "text/x-python",
   "name": "python",
   "nbconvert_exporter": "python",
   "pygments_lexer": "ipython3",
   "version": "3.7.4"
  }
 },
 "nbformat": 4,
 "nbformat_minor": 4
}
